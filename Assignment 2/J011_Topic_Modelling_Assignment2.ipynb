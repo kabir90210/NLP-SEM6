{
  "cells": [
    {
      "cell_type": "markdown",
      "source": [
        "# **NLP ASSIGNMENT 2:**\n",
        "\n",
        "## **KABIR CHATURVEDI, J011**"
      ],
      "metadata": {
        "id": "I4g7zPWdJAcQ"
      }
    },
    {
      "cell_type": "code",
      "execution_count": 1,
      "metadata": {
        "id": "vqWPVEX5SyAe"
      },
      "outputs": [],
      "source": [
        "import pandas as pd\n",
        "import numpy as np\n",
        "import gensim\n",
        "from gensim.utils import simple_preprocess\n",
        "from gensim.parsing.preprocessing import STOPWORDS\n",
        "from nltk.stem import WordNetLemmatizer, SnowballStemmer\n",
        "from nltk.stem.porter import *"
      ]
    },
    {
      "cell_type": "code",
      "execution_count": 3,
      "metadata": {
        "colab": {
          "base_uri": "https://localhost:8080/",
          "height": 444
        },
        "id": "2leGCh3wSyCn",
        "outputId": "fd4d4967-bff6-4042-b402-28bd7ea057f0"
      },
      "outputs": [
        {
          "output_type": "stream",
          "name": "stderr",
          "text": [
            "/usr/local/lib/python3.7/dist-packages/IPython/core/interactiveshell.py:2882: FutureWarning: The error_bad_lines argument has been deprecated and will be removed in a future version.\n",
            "\n",
            "\n",
            "  exec(code_obj, self.user_global_ns, self.user_ns)\n",
            "Skipping line 797: unexpected end of data\n"
          ]
        },
        {
          "output_type": "execute_result",
          "data": {
            "text/plain": [
              "     id  year                                              title  event_type  \\\n",
              "0     1  1987  Self-Organization of Associative Database and ...         NaN   \n",
              "1    10  1987  A Mean Field Theory of Layer IV of Visual Cort...         NaN   \n",
              "2   100  1988  Storing Covariance by the Associative Long-Ter...         NaN   \n",
              "3  1000  1994  Bayesian Query Construction for Neural Network...         NaN   \n",
              "4  1001  1994  Neural Network Ensembles, Cross Validation, an...         NaN   \n",
              "\n",
              "                                            pdf_name          abstract  \\\n",
              "0  1-self-organization-of-associative-database-an...  Abstract Missing   \n",
              "1  10-a-mean-field-theory-of-layer-iv-of-visual-c...  Abstract Missing   \n",
              "2  100-storing-covariance-by-the-associative-long...  Abstract Missing   \n",
              "3  1000-bayesian-query-construction-for-neural-ne...  Abstract Missing   \n",
              "4  1001-neural-network-ensembles-cross-validation...  Abstract Missing   \n",
              "\n",
              "                                          paper_text  \n",
              "0  767\\n\\nSELF-ORGANIZATION OF ASSOCIATIVE DATABA...  \n",
              "1  683\\n\\nA MEAN FIELD THEORY OF LAYER IV OF VISU...  \n",
              "2  394\\n\\nSTORING COVARIANCE BY THE ASSOCIATIVE\\n...  \n",
              "3  Bayesian Query Construction for Neural\\nNetwor...  \n",
              "4  Neural Network Ensembles, Cross\\nValidation, a...  "
            ],
            "text/html": [
              "\n",
              "  <div id=\"df-366fc1f1-c4c2-493a-866c-b34b06354f1e\">\n",
              "    <div class=\"colab-df-container\">\n",
              "      <div>\n",
              "<style scoped>\n",
              "    .dataframe tbody tr th:only-of-type {\n",
              "        vertical-align: middle;\n",
              "    }\n",
              "\n",
              "    .dataframe tbody tr th {\n",
              "        vertical-align: top;\n",
              "    }\n",
              "\n",
              "    .dataframe thead th {\n",
              "        text-align: right;\n",
              "    }\n",
              "</style>\n",
              "<table border=\"1\" class=\"dataframe\">\n",
              "  <thead>\n",
              "    <tr style=\"text-align: right;\">\n",
              "      <th></th>\n",
              "      <th>id</th>\n",
              "      <th>year</th>\n",
              "      <th>title</th>\n",
              "      <th>event_type</th>\n",
              "      <th>pdf_name</th>\n",
              "      <th>abstract</th>\n",
              "      <th>paper_text</th>\n",
              "    </tr>\n",
              "  </thead>\n",
              "  <tbody>\n",
              "    <tr>\n",
              "      <th>0</th>\n",
              "      <td>1</td>\n",
              "      <td>1987</td>\n",
              "      <td>Self-Organization of Associative Database and ...</td>\n",
              "      <td>NaN</td>\n",
              "      <td>1-self-organization-of-associative-database-an...</td>\n",
              "      <td>Abstract Missing</td>\n",
              "      <td>767\\n\\nSELF-ORGANIZATION OF ASSOCIATIVE DATABA...</td>\n",
              "    </tr>\n",
              "    <tr>\n",
              "      <th>1</th>\n",
              "      <td>10</td>\n",
              "      <td>1987</td>\n",
              "      <td>A Mean Field Theory of Layer IV of Visual Cort...</td>\n",
              "      <td>NaN</td>\n",
              "      <td>10-a-mean-field-theory-of-layer-iv-of-visual-c...</td>\n",
              "      <td>Abstract Missing</td>\n",
              "      <td>683\\n\\nA MEAN FIELD THEORY OF LAYER IV OF VISU...</td>\n",
              "    </tr>\n",
              "    <tr>\n",
              "      <th>2</th>\n",
              "      <td>100</td>\n",
              "      <td>1988</td>\n",
              "      <td>Storing Covariance by the Associative Long-Ter...</td>\n",
              "      <td>NaN</td>\n",
              "      <td>100-storing-covariance-by-the-associative-long...</td>\n",
              "      <td>Abstract Missing</td>\n",
              "      <td>394\\n\\nSTORING COVARIANCE BY THE ASSOCIATIVE\\n...</td>\n",
              "    </tr>\n",
              "    <tr>\n",
              "      <th>3</th>\n",
              "      <td>1000</td>\n",
              "      <td>1994</td>\n",
              "      <td>Bayesian Query Construction for Neural Network...</td>\n",
              "      <td>NaN</td>\n",
              "      <td>1000-bayesian-query-construction-for-neural-ne...</td>\n",
              "      <td>Abstract Missing</td>\n",
              "      <td>Bayesian Query Construction for Neural\\nNetwor...</td>\n",
              "    </tr>\n",
              "    <tr>\n",
              "      <th>4</th>\n",
              "      <td>1001</td>\n",
              "      <td>1994</td>\n",
              "      <td>Neural Network Ensembles, Cross Validation, an...</td>\n",
              "      <td>NaN</td>\n",
              "      <td>1001-neural-network-ensembles-cross-validation...</td>\n",
              "      <td>Abstract Missing</td>\n",
              "      <td>Neural Network Ensembles, Cross\\nValidation, a...</td>\n",
              "    </tr>\n",
              "  </tbody>\n",
              "</table>\n",
              "</div>\n",
              "      <button class=\"colab-df-convert\" onclick=\"convertToInteractive('df-366fc1f1-c4c2-493a-866c-b34b06354f1e')\"\n",
              "              title=\"Convert this dataframe to an interactive table.\"\n",
              "              style=\"display:none;\">\n",
              "        \n",
              "  <svg xmlns=\"http://www.w3.org/2000/svg\" height=\"24px\"viewBox=\"0 0 24 24\"\n",
              "       width=\"24px\">\n",
              "    <path d=\"M0 0h24v24H0V0z\" fill=\"none\"/>\n",
              "    <path d=\"M18.56 5.44l.94 2.06.94-2.06 2.06-.94-2.06-.94-.94-2.06-.94 2.06-2.06.94zm-11 1L8.5 8.5l.94-2.06 2.06-.94-2.06-.94L8.5 2.5l-.94 2.06-2.06.94zm10 10l.94 2.06.94-2.06 2.06-.94-2.06-.94-.94-2.06-.94 2.06-2.06.94z\"/><path d=\"M17.41 7.96l-1.37-1.37c-.4-.4-.92-.59-1.43-.59-.52 0-1.04.2-1.43.59L10.3 9.45l-7.72 7.72c-.78.78-.78 2.05 0 2.83L4 21.41c.39.39.9.59 1.41.59.51 0 1.02-.2 1.41-.59l7.78-7.78 2.81-2.81c.8-.78.8-2.07 0-2.86zM5.41 20L4 18.59l7.72-7.72 1.47 1.35L5.41 20z\"/>\n",
              "  </svg>\n",
              "      </button>\n",
              "      \n",
              "  <style>\n",
              "    .colab-df-container {\n",
              "      display:flex;\n",
              "      flex-wrap:wrap;\n",
              "      gap: 12px;\n",
              "    }\n",
              "\n",
              "    .colab-df-convert {\n",
              "      background-color: #E8F0FE;\n",
              "      border: none;\n",
              "      border-radius: 50%;\n",
              "      cursor: pointer;\n",
              "      display: none;\n",
              "      fill: #1967D2;\n",
              "      height: 32px;\n",
              "      padding: 0 0 0 0;\n",
              "      width: 32px;\n",
              "    }\n",
              "\n",
              "    .colab-df-convert:hover {\n",
              "      background-color: #E2EBFA;\n",
              "      box-shadow: 0px 1px 2px rgba(60, 64, 67, 0.3), 0px 1px 3px 1px rgba(60, 64, 67, 0.15);\n",
              "      fill: #174EA6;\n",
              "    }\n",
              "\n",
              "    [theme=dark] .colab-df-convert {\n",
              "      background-color: #3B4455;\n",
              "      fill: #D2E3FC;\n",
              "    }\n",
              "\n",
              "    [theme=dark] .colab-df-convert:hover {\n",
              "      background-color: #434B5C;\n",
              "      box-shadow: 0px 1px 3px 1px rgba(0, 0, 0, 0.15);\n",
              "      filter: drop-shadow(0px 1px 2px rgba(0, 0, 0, 0.3));\n",
              "      fill: #FFFFFF;\n",
              "    }\n",
              "  </style>\n",
              "\n",
              "      <script>\n",
              "        const buttonEl =\n",
              "          document.querySelector('#df-366fc1f1-c4c2-493a-866c-b34b06354f1e button.colab-df-convert');\n",
              "        buttonEl.style.display =\n",
              "          google.colab.kernel.accessAllowed ? 'block' : 'none';\n",
              "\n",
              "        async function convertToInteractive(key) {\n",
              "          const element = document.querySelector('#df-366fc1f1-c4c2-493a-866c-b34b06354f1e');\n",
              "          const dataTable =\n",
              "            await google.colab.kernel.invokeFunction('convertToInteractive',\n",
              "                                                     [key], {});\n",
              "          if (!dataTable) return;\n",
              "\n",
              "          const docLinkHtml = 'Like what you see? Visit the ' +\n",
              "            '<a target=\"_blank\" href=https://colab.research.google.com/notebooks/data_table.ipynb>data table notebook</a>'\n",
              "            + ' to learn more about interactive tables.';\n",
              "          element.innerHTML = '';\n",
              "          dataTable['output_type'] = 'display_data';\n",
              "          await google.colab.output.renderOutput(dataTable, element);\n",
              "          const docLink = document.createElement('div');\n",
              "          docLink.innerHTML = docLinkHtml;\n",
              "          element.appendChild(docLink);\n",
              "        }\n",
              "      </script>\n",
              "    </div>\n",
              "  </div>\n",
              "  "
            ]
          },
          "metadata": {},
          "execution_count": 3
        }
      ],
      "source": [
        "data = pd.read_csv('/content/Papers.csv',error_bad_lines=False, engine=\"python\")\n",
        "data.head()"
      ]
    },
    {
      "cell_type": "code",
      "execution_count": 4,
      "metadata": {
        "colab": {
          "base_uri": "https://localhost:8080/",
          "height": 206
        },
        "id": "Tas88YbXSyFb",
        "outputId": "0fef03e5-7dd1-42cd-e5c7-2a79795d7144"
      },
      "outputs": [
        {
          "output_type": "execute_result",
          "data": {
            "text/plain": [
              "                                          paper_text  index\n",
              "0  767\\n\\nSELF-ORGANIZATION OF ASSOCIATIVE DATABA...      0\n",
              "1  683\\n\\nA MEAN FIELD THEORY OF LAYER IV OF VISU...      1\n",
              "2  394\\n\\nSTORING COVARIANCE BY THE ASSOCIATIVE\\n...      2\n",
              "3  Bayesian Query Construction for Neural\\nNetwor...      3\n",
              "4  Neural Network Ensembles, Cross\\nValidation, a...      4"
            ],
            "text/html": [
              "\n",
              "  <div id=\"df-e4c1ec70-efb3-47de-aa90-6ea7d8fc46e9\">\n",
              "    <div class=\"colab-df-container\">\n",
              "      <div>\n",
              "<style scoped>\n",
              "    .dataframe tbody tr th:only-of-type {\n",
              "        vertical-align: middle;\n",
              "    }\n",
              "\n",
              "    .dataframe tbody tr th {\n",
              "        vertical-align: top;\n",
              "    }\n",
              "\n",
              "    .dataframe thead th {\n",
              "        text-align: right;\n",
              "    }\n",
              "</style>\n",
              "<table border=\"1\" class=\"dataframe\">\n",
              "  <thead>\n",
              "    <tr style=\"text-align: right;\">\n",
              "      <th></th>\n",
              "      <th>paper_text</th>\n",
              "      <th>index</th>\n",
              "    </tr>\n",
              "  </thead>\n",
              "  <tbody>\n",
              "    <tr>\n",
              "      <th>0</th>\n",
              "      <td>767\\n\\nSELF-ORGANIZATION OF ASSOCIATIVE DATABA...</td>\n",
              "      <td>0</td>\n",
              "    </tr>\n",
              "    <tr>\n",
              "      <th>1</th>\n",
              "      <td>683\\n\\nA MEAN FIELD THEORY OF LAYER IV OF VISU...</td>\n",
              "      <td>1</td>\n",
              "    </tr>\n",
              "    <tr>\n",
              "      <th>2</th>\n",
              "      <td>394\\n\\nSTORING COVARIANCE BY THE ASSOCIATIVE\\n...</td>\n",
              "      <td>2</td>\n",
              "    </tr>\n",
              "    <tr>\n",
              "      <th>3</th>\n",
              "      <td>Bayesian Query Construction for Neural\\nNetwor...</td>\n",
              "      <td>3</td>\n",
              "    </tr>\n",
              "    <tr>\n",
              "      <th>4</th>\n",
              "      <td>Neural Network Ensembles, Cross\\nValidation, a...</td>\n",
              "      <td>4</td>\n",
              "    </tr>\n",
              "  </tbody>\n",
              "</table>\n",
              "</div>\n",
              "      <button class=\"colab-df-convert\" onclick=\"convertToInteractive('df-e4c1ec70-efb3-47de-aa90-6ea7d8fc46e9')\"\n",
              "              title=\"Convert this dataframe to an interactive table.\"\n",
              "              style=\"display:none;\">\n",
              "        \n",
              "  <svg xmlns=\"http://www.w3.org/2000/svg\" height=\"24px\"viewBox=\"0 0 24 24\"\n",
              "       width=\"24px\">\n",
              "    <path d=\"M0 0h24v24H0V0z\" fill=\"none\"/>\n",
              "    <path d=\"M18.56 5.44l.94 2.06.94-2.06 2.06-.94-2.06-.94-.94-2.06-.94 2.06-2.06.94zm-11 1L8.5 8.5l.94-2.06 2.06-.94-2.06-.94L8.5 2.5l-.94 2.06-2.06.94zm10 10l.94 2.06.94-2.06 2.06-.94-2.06-.94-.94-2.06-.94 2.06-2.06.94z\"/><path d=\"M17.41 7.96l-1.37-1.37c-.4-.4-.92-.59-1.43-.59-.52 0-1.04.2-1.43.59L10.3 9.45l-7.72 7.72c-.78.78-.78 2.05 0 2.83L4 21.41c.39.39.9.59 1.41.59.51 0 1.02-.2 1.41-.59l7.78-7.78 2.81-2.81c.8-.78.8-2.07 0-2.86zM5.41 20L4 18.59l7.72-7.72 1.47 1.35L5.41 20z\"/>\n",
              "  </svg>\n",
              "      </button>\n",
              "      \n",
              "  <style>\n",
              "    .colab-df-container {\n",
              "      display:flex;\n",
              "      flex-wrap:wrap;\n",
              "      gap: 12px;\n",
              "    }\n",
              "\n",
              "    .colab-df-convert {\n",
              "      background-color: #E8F0FE;\n",
              "      border: none;\n",
              "      border-radius: 50%;\n",
              "      cursor: pointer;\n",
              "      display: none;\n",
              "      fill: #1967D2;\n",
              "      height: 32px;\n",
              "      padding: 0 0 0 0;\n",
              "      width: 32px;\n",
              "    }\n",
              "\n",
              "    .colab-df-convert:hover {\n",
              "      background-color: #E2EBFA;\n",
              "      box-shadow: 0px 1px 2px rgba(60, 64, 67, 0.3), 0px 1px 3px 1px rgba(60, 64, 67, 0.15);\n",
              "      fill: #174EA6;\n",
              "    }\n",
              "\n",
              "    [theme=dark] .colab-df-convert {\n",
              "      background-color: #3B4455;\n",
              "      fill: #D2E3FC;\n",
              "    }\n",
              "\n",
              "    [theme=dark] .colab-df-convert:hover {\n",
              "      background-color: #434B5C;\n",
              "      box-shadow: 0px 1px 3px 1px rgba(0, 0, 0, 0.15);\n",
              "      filter: drop-shadow(0px 1px 2px rgba(0, 0, 0, 0.3));\n",
              "      fill: #FFFFFF;\n",
              "    }\n",
              "  </style>\n",
              "\n",
              "      <script>\n",
              "        const buttonEl =\n",
              "          document.querySelector('#df-e4c1ec70-efb3-47de-aa90-6ea7d8fc46e9 button.colab-df-convert');\n",
              "        buttonEl.style.display =\n",
              "          google.colab.kernel.accessAllowed ? 'block' : 'none';\n",
              "\n",
              "        async function convertToInteractive(key) {\n",
              "          const element = document.querySelector('#df-e4c1ec70-efb3-47de-aa90-6ea7d8fc46e9');\n",
              "          const dataTable =\n",
              "            await google.colab.kernel.invokeFunction('convertToInteractive',\n",
              "                                                     [key], {});\n",
              "          if (!dataTable) return;\n",
              "\n",
              "          const docLinkHtml = 'Like what you see? Visit the ' +\n",
              "            '<a target=\"_blank\" href=https://colab.research.google.com/notebooks/data_table.ipynb>data table notebook</a>'\n",
              "            + ' to learn more about interactive tables.';\n",
              "          element.innerHTML = '';\n",
              "          dataTable['output_type'] = 'display_data';\n",
              "          await google.colab.output.renderOutput(dataTable, element);\n",
              "          const docLink = document.createElement('div');\n",
              "          docLink.innerHTML = docLinkHtml;\n",
              "          element.appendChild(docLink);\n",
              "        }\n",
              "      </script>\n",
              "    </div>\n",
              "  </div>\n",
              "  "
            ]
          },
          "metadata": {},
          "execution_count": 4
        }
      ],
      "source": [
        "df = pd.DataFrame(data = data.paper_text, columns = ['paper_text'], index = range(len(data)))\n",
        "df['index'] = range(len(data))\n",
        "df.head()"
      ]
    },
    {
      "cell_type": "code",
      "execution_count": 5,
      "metadata": {
        "colab": {
          "base_uri": "https://localhost:8080/"
        },
        "id": "fsDm6rXFSyKn",
        "outputId": "92d5eb52-6c37-4582-b685-80c31d99ac2c"
      },
      "outputs": [
        {
          "output_type": "execute_result",
          "data": {
            "text/plain": [
              "(795, 2)"
            ]
          },
          "metadata": {},
          "execution_count": 5
        }
      ],
      "source": [
        "df.shape"
      ]
    },
    {
      "cell_type": "code",
      "execution_count": 6,
      "metadata": {
        "colab": {
          "base_uri": "https://localhost:8080/"
        },
        "id": "cS0LEyjESyNH",
        "outputId": "b1106b2a-9c3c-4a18-e2ec-4b26814b7ebb"
      },
      "outputs": [
        {
          "output_type": "execute_result",
          "data": {
            "text/plain": [
              "paper_text    0\n",
              "index         0\n",
              "dtype: int64"
            ]
          },
          "metadata": {},
          "execution_count": 6
        }
      ],
      "source": [
        "df.isnull().sum()"
      ]
    },
    {
      "cell_type": "markdown",
      "metadata": {
        "id": "bTZkjvfQVv4O"
      },
      "source": [
        "# **Now we perform preprocessing:**"
      ]
    },
    {
      "cell_type": "code",
      "execution_count": 7,
      "metadata": {
        "id": "BrkYKLG4Dj8v"
      },
      "outputs": [],
      "source": [
        "np.random.seed(121)"
      ]
    },
    {
      "cell_type": "code",
      "execution_count": 9,
      "metadata": {
        "colab": {
          "base_uri": "https://localhost:8080/"
        },
        "id": "nOYqt4Z8VsNo",
        "outputId": "5fcc837c-a245-4b8a-b159-47290e924f78"
      },
      "outputs": [
        {
          "output_type": "stream",
          "name": "stdout",
          "text": [
            "[nltk_data] Downloading package wordnet to /root/nltk_data...\n",
            "[nltk_data]   Unzipping corpora/wordnet.zip.\n"
          ]
        },
        {
          "output_type": "execute_result",
          "data": {
            "text/plain": [
              "True"
            ]
          },
          "metadata": {},
          "execution_count": 9
        }
      ],
      "source": [
        "import nltk\n",
        "nltk.download('wordnet')"
      ]
    },
    {
      "cell_type": "code",
      "execution_count": 10,
      "metadata": {
        "id": "Bgvn139QVsQz"
      },
      "outputs": [],
      "source": [
        "stemmer = SnowballStemmer('english')"
      ]
    },
    {
      "cell_type": "code",
      "execution_count": 11,
      "metadata": {
        "id": "7FumY9xrVsT_"
      },
      "outputs": [],
      "source": [
        "def lemmatize_stemming(text):\n",
        "    return stemmer.stem(WordNetLemmatizer().lemmatize(text, pos = 'v'))\n",
        "\n",
        "def preprocess_text(text):\n",
        "    result = []\n",
        "    for token in simple_preprocess(text):\n",
        "        if token not in STOPWORDS and len(token) > 3:\n",
        "            result.append(lemmatize_stemming(token))\n",
        "            \n",
        "    return result"
      ]
    },
    {
      "cell_type": "code",
      "execution_count": 12,
      "metadata": {
        "colab": {
          "base_uri": "https://localhost:8080/"
        },
        "id": "mxzPSSK6VsWv",
        "outputId": "85800c0d-c23f-461b-f93b-1b7fcb237dc2"
      },
      "outputs": [
        {
          "output_type": "execute_result",
          "data": {
            "text/plain": [
              "0     [self, organ, associ, databas, applic, hisashi...\n",
              "1     [mean, field, theori, layer, visual, cortex, a...\n",
              "2     [store, covari, associ, long, term, potenti, d...\n",
              "3     [bayesian, queri, construct, neural, network, ...\n",
              "4     [neural, network, ensembl, cross, valid, activ...\n",
              "5     [sing, neural, instanti, deform, model, christ...\n",
              "6     [plastic, mediat, competit, learn, terrenc, se...\n",
              "7     [iceg, morpholog, classif, analogu, vlsi, neur...\n",
              "8     [real, time, control, tokamak, plasma, neural,...\n",
              "9     [real, time, control, tokamak, plasma, neural,...\n",
              "10    [learn, play, game, chess, sebastian, thrun, u...\n",
              "11    [scale, data, cluster, thoma, hofmann, joachim...\n",
              "12    [experiment, comparison, recurr, neural, netwo...\n",
              "13    [train, multilay, perceptron, extend, kalman, ...\n",
              "14    [interfer, learn, intern, model, invers, dynam...\n",
              "Name: paper_text, dtype: object"
            ]
          },
          "metadata": {},
          "execution_count": 12
        }
      ],
      "source": [
        "processed_docs = df['paper_text'].apply(preprocess_text)\n",
        "processed_docs[:15]"
      ]
    },
    {
      "cell_type": "markdown",
      "metadata": {
        "id": "RI11Or1GFnfz"
      },
      "source": [
        "# **NOW WE DO FEATURE EXTRACTION USING TF-IDF :**"
      ]
    },
    {
      "cell_type": "code",
      "execution_count": 13,
      "metadata": {
        "id": "HuD__UcKEZ6Q"
      },
      "outputs": [],
      "source": [
        "dictionary = gensim.corpora.Dictionary(processed_docs)"
      ]
    },
    {
      "cell_type": "code",
      "execution_count": 14,
      "metadata": {
        "id": "wVGJvv7rEZ-C"
      },
      "outputs": [],
      "source": [
        "bow_corpus = [dictionary.doc2bow(doc) for doc in processed_docs]"
      ]
    },
    {
      "cell_type": "code",
      "execution_count": 15,
      "metadata": {
        "id": "3ZAbTg7BEaBR"
      },
      "outputs": [],
      "source": [
        "tfidf = gensim.models.TfidfModel(bow_corpus)"
      ]
    },
    {
      "cell_type": "code",
      "execution_count": 16,
      "metadata": {
        "id": "sbZcdOq3EaEU"
      },
      "outputs": [],
      "source": [
        "corpus_tfidf = tfidf[bow_corpus]"
      ]
    },
    {
      "cell_type": "markdown",
      "metadata": {
        "id": "UdRgQ7DJGDea"
      },
      "source": [
        "# **WE RUN LDA USING TF-IDF :**"
      ]
    },
    {
      "cell_type": "code",
      "execution_count": 17,
      "metadata": {
        "id": "Fu6Yt1peQTF7"
      },
      "outputs": [],
      "source": [
        "num_topics = 10"
      ]
    },
    {
      "cell_type": "code",
      "execution_count": 18,
      "metadata": {
        "id": "J91ZMeswF_4A"
      },
      "outputs": [],
      "source": [
        "lda_tfidf = gensim.models.LdaMulticore(corpus_tfidf, num_topics = num_topics, id2word = dictionary, passes = 2, workers = 4)"
      ]
    },
    {
      "cell_type": "code",
      "execution_count": 19,
      "metadata": {
        "colab": {
          "base_uri": "https://localhost:8080/"
        },
        "id": "yoZtGZ-SF_7E",
        "outputId": "bad4d9fe-72de-449d-9347-9d0cda88322d"
      },
      "outputs": [
        {
          "output_type": "stream",
          "name": "stdout",
          "text": [
            "Topic : 0 \n",
            " Words 0.000*\"attent\" + 0.000*\"bayesian\" + 0.000*\"imag\" + 0.000*\"synaps\" + 0.000*\"tsitsik\" + 0.000*\"chain\" + 0.000*\"motion\" + 0.000*\"state\" + 0.000*\"human\" + 0.000*\"train\" \n",
            "\n",
            "Topic : 1 \n",
            " Words 0.001*\"cell\" + 0.000*\"state\" + 0.000*\"neuron\" + 0.000*\"imag\" + 0.000*\"oscil\" + 0.000*\"rout\" + 0.000*\"tree\" + 0.000*\"analog\" + 0.000*\"visual\" + 0.000*\"polici\" \n",
            "\n",
            "Topic : 2 \n",
            " Words 0.001*\"kernel\" + 0.001*\"train\" + 0.001*\"imag\" + 0.001*\"spike\" + 0.001*\"posterior\" + 0.001*\"mixtur\" + 0.001*\"bind\" + 0.001*\"gaussian\" + 0.001*\"classifi\" + 0.001*\"neuron\" \n",
            "\n",
            "Topic : 3 \n",
            " Words 0.001*\"circuit\" + 0.001*\"neuron\" + 0.000*\"chip\" + 0.000*\"transistor\" + 0.000*\"endmemb\" + 0.000*\"match\" + 0.000*\"cell\" + 0.000*\"voltag\" + 0.000*\"node\" + 0.000*\"transit\" \n",
            "\n",
            "Topic : 4 \n",
            " Words 0.000*\"blind\" + 0.000*\"rotat\" + 0.000*\"eigenvector\" + 0.000*\"robot\" + 0.000*\"spike\" + 0.000*\"unit\" + 0.000*\"psom\" + 0.000*\"textur\" + 0.000*\"monk\" + 0.000*\"neuron\" \n",
            "\n",
            "Topic : 5 \n",
            " Words 0.001*\"imag\" + 0.001*\"tree\" + 0.000*\"neuron\" + 0.000*\"rank\" + 0.000*\"expert\" + 0.000*\"polici\" + 0.000*\"mixtur\" + 0.000*\"predict\" + 0.000*\"manifold\" + 0.000*\"wind\" \n",
            "\n",
            "Topic : 6 \n",
            " Words 0.001*\"neuron\" + 0.001*\"cell\" + 0.001*\"chip\" + 0.001*\"circuit\" + 0.001*\"synaps\" + 0.001*\"synapt\" + 0.001*\"voltag\" + 0.001*\"activ\" + 0.001*\"fire\" + 0.001*\"cluster\" \n",
            "\n",
            "Topic : 7 \n",
            " Words 0.001*\"polici\" + 0.001*\"state\" + 0.001*\"imag\" + 0.001*\"control\" + 0.001*\"train\" + 0.001*\"ensembl\" + 0.001*\"reinforc\" + 0.001*\"learn\" + 0.001*\"action\" + 0.001*\"error\" \n",
            "\n",
            "Topic : 8 \n",
            " Words 0.000*\"ocular\" + 0.000*\"correl\" + 0.000*\"schedul\" + 0.000*\"grid\" + 0.000*\"dispar\" + 0.000*\"diffus\" + 0.000*\"channel\" + 0.000*\"neuron\" + 0.000*\"coher\" + 0.000*\"cortic\" \n",
            "\n",
            "Topic : 9 \n",
            " Words 0.000*\"circuit\" + 0.000*\"imag\" + 0.000*\"document\" + 0.000*\"markov\" + 0.000*\"voltag\" + 0.000*\"edg\" + 0.000*\"cluster\" + 0.000*\"filter\" + 0.000*\"impuls\" + 0.000*\"perceptron\" \n",
            "\n"
          ]
        }
      ],
      "source": [
        "for idx, topic in lda_tfidf.print_topics(-1):\n",
        "    print(f\"Topic : {idx} \\n Words {topic} \\n\")"
      ]
    },
    {
      "cell_type": "markdown",
      "metadata": {
        "id": "aihpZE_bktdf"
      },
      "source": [
        "## **To find the common words b/w each pair of topics:**"
      ]
    },
    {
      "cell_type": "code",
      "execution_count": 20,
      "metadata": {
        "colab": {
          "base_uri": "https://localhost:8080/"
        },
        "id": "iTVhS54DRGwt",
        "outputId": "d571469c-8ae8-40bd-eed2-e16bf10d43c5"
      },
      "outputs": [
        {
          "output_type": "execute_result",
          "data": {
            "text/plain": [
              "{0: '0.000*\"attent\" + 0.000*\"bayesian\" + 0.000*\"imag\" + 0.000*\"synaps\" + 0.000*\"tsitsik\" + 0.000*\"chain\" + 0.000*\"motion\" + 0.000*\"state\" + 0.000*\"human\" + 0.000*\"train\"',\n",
              " 1: '0.001*\"cell\" + 0.000*\"state\" + 0.000*\"neuron\" + 0.000*\"imag\" + 0.000*\"oscil\" + 0.000*\"rout\" + 0.000*\"tree\" + 0.000*\"analog\" + 0.000*\"visual\" + 0.000*\"polici\"',\n",
              " 2: '0.001*\"kernel\" + 0.001*\"train\" + 0.001*\"imag\" + 0.001*\"spike\" + 0.001*\"posterior\" + 0.001*\"mixtur\" + 0.001*\"bind\" + 0.001*\"gaussian\" + 0.001*\"classifi\" + 0.001*\"neuron\"',\n",
              " 3: '0.001*\"circuit\" + 0.001*\"neuron\" + 0.000*\"chip\" + 0.000*\"transistor\" + 0.000*\"endmemb\" + 0.000*\"match\" + 0.000*\"cell\" + 0.000*\"voltag\" + 0.000*\"node\" + 0.000*\"transit\"',\n",
              " 4: '0.000*\"blind\" + 0.000*\"rotat\" + 0.000*\"eigenvector\" + 0.000*\"robot\" + 0.000*\"spike\" + 0.000*\"unit\" + 0.000*\"psom\" + 0.000*\"textur\" + 0.000*\"monk\" + 0.000*\"neuron\"',\n",
              " 5: '0.001*\"imag\" + 0.001*\"tree\" + 0.000*\"neuron\" + 0.000*\"rank\" + 0.000*\"expert\" + 0.000*\"polici\" + 0.000*\"mixtur\" + 0.000*\"predict\" + 0.000*\"manifold\" + 0.000*\"wind\"',\n",
              " 6: '0.001*\"neuron\" + 0.001*\"cell\" + 0.001*\"chip\" + 0.001*\"circuit\" + 0.001*\"synaps\" + 0.001*\"synapt\" + 0.001*\"voltag\" + 0.001*\"activ\" + 0.001*\"fire\" + 0.001*\"cluster\"',\n",
              " 7: '0.001*\"polici\" + 0.001*\"state\" + 0.001*\"imag\" + 0.001*\"control\" + 0.001*\"train\" + 0.001*\"ensembl\" + 0.001*\"reinforc\" + 0.001*\"learn\" + 0.001*\"action\" + 0.001*\"error\"',\n",
              " 8: '0.000*\"ocular\" + 0.000*\"correl\" + 0.000*\"schedul\" + 0.000*\"grid\" + 0.000*\"dispar\" + 0.000*\"diffus\" + 0.000*\"channel\" + 0.000*\"neuron\" + 0.000*\"coher\" + 0.000*\"cortic\"',\n",
              " 9: '0.000*\"circuit\" + 0.000*\"imag\" + 0.000*\"document\" + 0.000*\"markov\" + 0.000*\"voltag\" + 0.000*\"edg\" + 0.000*\"cluster\" + 0.000*\"filter\" + 0.000*\"impuls\" + 0.000*\"perceptron\"'}"
            ]
          },
          "metadata": {},
          "execution_count": 20
        }
      ],
      "source": [
        "topic_dict = {}\n",
        "for idx, topic in lda_tfidf.print_topics(-1):\n",
        "    topic_dict[idx] = topic\n",
        "\n",
        "topic_dict"
      ]
    },
    {
      "cell_type": "code",
      "execution_count": 21,
      "metadata": {
        "id": "T35zLBDNF_-G"
      },
      "outputs": [],
      "source": [
        "from itertools import combinations\n",
        "import regex as re"
      ]
    },
    {
      "cell_type": "code",
      "execution_count": 22,
      "metadata": {
        "id": "_hd0xJlzRZPm"
      },
      "outputs": [],
      "source": [
        "def topic_words(topic):\n",
        "    topics = re.findall(\"\\D{4,}\", topic)\n",
        "    return list(map(lambda x: x[2: x.find('\"', x.find('\"') + 1)], topics))"
      ]
    },
    {
      "cell_type": "code",
      "execution_count": 23,
      "metadata": {
        "colab": {
          "base_uri": "https://localhost:8080/"
        },
        "id": "ejCtg68ZGAAx",
        "outputId": "d400f9e4-9595-4e50-c36f-9083788b9933"
      },
      "outputs": [
        {
          "output_type": "stream",
          "name": "stdout",
          "text": [
            "Topic 0 and 1 : 2\n",
            "Common words - {'state', 'imag'}\n",
            "\n",
            "\n",
            "Topic 0 and 2 : 2\n",
            "Common words - {'train', 'imag'}\n",
            "\n",
            "\n",
            "Topic 0 and 3 : 0\n",
            "Common words - set()\n",
            "\n",
            "\n",
            "Topic 0 and 4 : 0\n",
            "Common words - set()\n",
            "\n",
            "\n",
            "Topic 0 and 5 : 1\n",
            "Common words - {'imag'}\n",
            "\n",
            "\n",
            "Topic 0 and 6 : 1\n",
            "Common words - {'synaps'}\n",
            "\n",
            "\n",
            "Topic 0 and 7 : 3\n",
            "Common words - {'state', 'train', 'imag'}\n",
            "\n",
            "\n",
            "Topic 0 and 8 : 0\n",
            "Common words - set()\n",
            "\n",
            "\n",
            "Topic 0 and 9 : 1\n",
            "Common words - {'imag'}\n",
            "\n",
            "\n",
            "Topic 1 and 2 : 2\n",
            "Common words - {'neuron', 'imag'}\n",
            "\n",
            "\n",
            "Topic 1 and 3 : 2\n",
            "Common words - {'cell', 'neuron'}\n",
            "\n",
            "\n",
            "Topic 1 and 4 : 1\n",
            "Common words - {'neuron'}\n",
            "\n",
            "\n",
            "Topic 1 and 5 : 4\n",
            "Common words - {'tree', 'imag', 'neuron', 'polici'}\n",
            "\n",
            "\n",
            "Topic 1 and 6 : 2\n",
            "Common words - {'cell', 'neuron'}\n",
            "\n",
            "\n",
            "Topic 1 and 7 : 3\n",
            "Common words - {'state', 'imag', 'polici'}\n",
            "\n",
            "\n",
            "Topic 1 and 8 : 1\n",
            "Common words - {'neuron'}\n",
            "\n",
            "\n",
            "Topic 1 and 9 : 1\n",
            "Common words - {'imag'}\n",
            "\n",
            "\n",
            "Topic 2 and 3 : 1\n",
            "Common words - {'neuron'}\n",
            "\n",
            "\n",
            "Topic 2 and 4 : 2\n",
            "Common words - {'spike', 'neuron'}\n",
            "\n",
            "\n",
            "Topic 2 and 5 : 3\n",
            "Common words - {'mixtur', 'neuron', 'imag'}\n",
            "\n",
            "\n",
            "Topic 2 and 6 : 1\n",
            "Common words - {'neuron'}\n",
            "\n",
            "\n",
            "Topic 2 and 7 : 2\n",
            "Common words - {'train', 'imag'}\n",
            "\n",
            "\n",
            "Topic 2 and 8 : 1\n",
            "Common words - {'neuron'}\n",
            "\n",
            "\n",
            "Topic 2 and 9 : 1\n",
            "Common words - {'imag'}\n",
            "\n",
            "\n",
            "Topic 3 and 4 : 1\n",
            "Common words - {'neuron'}\n",
            "\n",
            "\n",
            "Topic 3 and 5 : 1\n",
            "Common words - {'neuron'}\n",
            "\n",
            "\n",
            "Topic 3 and 6 : 5\n",
            "Common words - {'circuit', 'cell', 'voltag', 'neuron', 'chip'}\n",
            "\n",
            "\n",
            "Topic 3 and 7 : 0\n",
            "Common words - set()\n",
            "\n",
            "\n",
            "Topic 3 and 8 : 1\n",
            "Common words - {'neuron'}\n",
            "\n",
            "\n",
            "Topic 3 and 9 : 2\n",
            "Common words - {'circuit', 'voltag'}\n",
            "\n",
            "\n",
            "Topic 4 and 5 : 1\n",
            "Common words - {'neuron'}\n",
            "\n",
            "\n",
            "Topic 4 and 6 : 1\n",
            "Common words - {'neuron'}\n",
            "\n",
            "\n",
            "Topic 4 and 7 : 0\n",
            "Common words - set()\n",
            "\n",
            "\n",
            "Topic 4 and 8 : 1\n",
            "Common words - {'neuron'}\n",
            "\n",
            "\n",
            "Topic 4 and 9 : 0\n",
            "Common words - set()\n",
            "\n",
            "\n",
            "Topic 5 and 6 : 1\n",
            "Common words - {'neuron'}\n",
            "\n",
            "\n",
            "Topic 5 and 7 : 2\n",
            "Common words - {'imag', 'polici'}\n",
            "\n",
            "\n",
            "Topic 5 and 8 : 1\n",
            "Common words - {'neuron'}\n",
            "\n",
            "\n",
            "Topic 5 and 9 : 1\n",
            "Common words - {'imag'}\n",
            "\n",
            "\n",
            "Topic 6 and 7 : 0\n",
            "Common words - set()\n",
            "\n",
            "\n",
            "Topic 6 and 8 : 1\n",
            "Common words - {'neuron'}\n",
            "\n",
            "\n",
            "Topic 6 and 9 : 3\n",
            "Common words - {'circuit', 'voltag', 'cluster'}\n",
            "\n",
            "\n",
            "Topic 7 and 8 : 0\n",
            "Common words - set()\n",
            "\n",
            "\n",
            "Topic 7 and 9 : 1\n",
            "Common words - {'imag'}\n",
            "\n",
            "\n",
            "Topic 8 and 9 : 0\n",
            "Common words - set()\n",
            "\n",
            "\n"
          ]
        }
      ],
      "source": [
        "for combination in combinations(list(range(10)), 2):\n",
        "    common_words = set(topic_words(topic_dict[combination[0]])).intersection(set(topic_words(topic_dict[combination[1]])))\n",
        "    print(f\"Topic {combination[0]} and {combination[1]} : {len(common_words)}\", end = \"\\n\")\n",
        "    print(f\"Common words - {common_words}\", end = \"\\n\")\n",
        "    print(\"\\n\")"
      ]
    },
    {
      "cell_type": "markdown",
      "metadata": {
        "id": "bEcBydg3lokC"
      },
      "source": [
        "# **Evaluating the topic model:**"
      ]
    },
    {
      "cell_type": "markdown",
      "source": [
        "- **Higher the coherence score , the better it is.**"
      ],
      "metadata": {
        "id": "b7xgqA4GID-a"
      }
    },
    {
      "cell_type": "code",
      "execution_count": 24,
      "metadata": {
        "colab": {
          "base_uri": "https://localhost:8080/"
        },
        "id": "48zZou3YWG6m",
        "outputId": "3a5b5f6e-d286-4973-bfcc-c23f17afa183"
      },
      "outputs": [
        {
          "output_type": "stream",
          "name": "stdout",
          "text": [
            "\n",
            "Coherence Score:  0.3196601303062716\n"
          ]
        }
      ],
      "source": [
        "from gensim.models import CoherenceModel\n",
        "# Compute Coherence Score\n",
        "coherence_model_lda = CoherenceModel(model=lda_tfidf, texts=processed_docs, dictionary=dictionary, coherence='c_v')\n",
        "coherence_lda = coherence_model_lda.get_coherence()\n",
        "print('\\nCoherence Score: ', coherence_lda)"
      ]
    },
    {
      "cell_type": "markdown",
      "metadata": {
        "id": "7sAtUVnroh2D"
      },
      "source": [
        "### **Using a different model to get a higher coherence score -**"
      ]
    },
    {
      "cell_type": "markdown",
      "metadata": {
        "id": "X4VQnTfiubqb"
      },
      "source": [
        "-   **Increasing the number of passes as well as the chunksize:**\n",
        "\n"
      ]
    },
    {
      "cell_type": "code",
      "execution_count": 25,
      "metadata": {
        "id": "I5bxKv4EWHOx"
      },
      "outputs": [],
      "source": [
        "lda_tfidf = gensim.models.LdaMulticore(corpus_tfidf, num_topics = num_topics, id2word = dictionary, passes = 15, workers = 4, \n",
        "                                       per_word_topics = True, chunksize = 3000)"
      ]
    },
    {
      "cell_type": "code",
      "execution_count": 26,
      "metadata": {
        "colab": {
          "base_uri": "https://localhost:8080/"
        },
        "id": "7679UDO2WHRt",
        "outputId": "311f5e3b-2b83-44af-e623-8feb071d17ca"
      },
      "outputs": [
        {
          "output_type": "stream",
          "name": "stdout",
          "text": [
            "Topic : 0 \n",
            " Words 0.000*\"lissom\" + 0.000*\"malcom\" + 0.000*\"chmms\" + 0.000*\"lstm\" + 0.000*\"meir\" + 0.000*\"bipe\" + 0.000*\"alvi\" + 0.000*\"yellow\" + 0.000*\"stensmo\" + 0.000*\"robin\" \n",
            "\n",
            "Topic : 1 \n",
            " Words 0.000*\"rangacv\" + 0.000*\"hpnn\" + 0.000*\"equipartit\" + 0.000*\"malign\" + 0.000*\"spert\" + 0.000*\"polygon\" + 0.000*\"minimax\" + 0.000*\"boxplot\" + 0.000*\"ih\" + 0.000*\"caviti\" \n",
            "\n",
            "Topic : 2 \n",
            " Words 0.000*\"loopi\" + 0.000*\"implant\" + 0.000*\"recollect\" + 0.000*\"conic\" + 0.000*\"fish\" + 0.000*\"idnn\" + 0.000*\"temper\" + 0.000*\"symplect\" + 0.000*\"ramnet\" + 0.000*\"unwrap\" \n",
            "\n",
            "Topic : 3 \n",
            " Words 0.000*\"lrta\" + 0.000*\"sfmd\" + 0.000*\"kanji\" + 0.000*\"bandit\" + 0.000*\"ying\" + 0.000*\"chemotaxi\" + 0.000*\"lwpls\" + 0.000*\"seemor\" + 0.000*\"sasb\" + 0.000*\"caviti\" \n",
            "\n",
            "Topic : 4 \n",
            " Words 0.000*\"scalp\" + 0.000*\"intersegment\" + 0.000*\"mpcs\" + 0.000*\"lext\" + 0.000*\"trepan\" + 0.000*\"gemini\" + 0.000*\"pref\" + 0.000*\"boxlet\" + 0.000*\"chess\" + 0.000*\"massaro\" \n",
            "\n",
            "Topic : 5 \n",
            " Words 0.000*\"narx\" + 0.000*\"wind\" + 0.000*\"pact\" + 0.000*\"cholinerg\" + 0.000*\"parti\" + 0.000*\"softassign\" + 0.000*\"scann\" + 0.000*\"carbachol\" + 0.000*\"unlearn\" + 0.000*\"remap\" \n",
            "\n",
            "Topic : 6 \n",
            " Words 0.002*\"neuron\" + 0.002*\"imag\" + 0.002*\"cell\" + 0.001*\"train\" + 0.001*\"spike\" + 0.001*\"state\" + 0.001*\"mixtur\" + 0.001*\"learn\" + 0.001*\"kernel\" + 0.001*\"unit\" \n",
            "\n",
            "Topic : 7 \n",
            " Words 0.001*\"coolen\" + 0.000*\"macroscop\" + 0.000*\"romma\" + 0.000*\"blht\" + 0.000*\"neuroscal\" + 0.000*\"barycentr\" + 0.000*\"freita\" + 0.000*\"microscop\" + 0.000*\"doom\" + 0.000*\"sherrington\" \n",
            "\n",
            "Topic : 8 \n",
            " Words 0.001*\"portfolio\" + 0.000*\"rivalri\" + 0.000*\"asset\" + 0.000*\"sulu\" + 0.000*\"glvq\" + 0.000*\"neuneier\" + 0.000*\"predisposit\" + 0.000*\"ppserver\" + 0.000*\"defend\" + 0.000*\"smem\" \n",
            "\n",
            "Topic : 9 \n",
            " Words 0.000*\"homotopi\" + 0.000*\"sonn\" + 0.000*\"harmoni\" + 0.000*\"vmos\" + 0.000*\"muon\" + 0.000*\"neff\" + 0.000*\"revenu\" + 0.000*\"cosmic\" + 0.000*\"cabl\" + 0.000*\"annaswami\" \n",
            "\n"
          ]
        }
      ],
      "source": [
        "for idx, topic in lda_tfidf.print_topics(-1):\n",
        "    print(f\"Topic : {idx} \\n Words {topic} \\n\")"
      ]
    },
    {
      "cell_type": "code",
      "execution_count": 27,
      "metadata": {
        "id": "NcTB8q3IWHUk"
      },
      "outputs": [],
      "source": [
        "topic_dict = {}\n",
        "for idx, topic in lda_tfidf.print_topics(-1):\n",
        "    topic_dict[idx] = topic"
      ]
    },
    {
      "cell_type": "code",
      "execution_count": 28,
      "metadata": {
        "colab": {
          "base_uri": "https://localhost:8080/"
        },
        "id": "IQBAcADRWHXZ",
        "outputId": "9321fa69-7a61-4a60-c684-62f3083519b3"
      },
      "outputs": [
        {
          "output_type": "stream",
          "name": "stdout",
          "text": [
            "Topic 0 and 1 : 0\n",
            "Common words - set()\n",
            "\n",
            "\n",
            "Topic 0 and 2 : 0\n",
            "Common words - set()\n",
            "\n",
            "\n",
            "Topic 0 and 3 : 0\n",
            "Common words - set()\n",
            "\n",
            "\n",
            "Topic 0 and 4 : 0\n",
            "Common words - set()\n",
            "\n",
            "\n",
            "Topic 0 and 5 : 0\n",
            "Common words - set()\n",
            "\n",
            "\n",
            "Topic 0 and 6 : 0\n",
            "Common words - set()\n",
            "\n",
            "\n",
            "Topic 0 and 7 : 0\n",
            "Common words - set()\n",
            "\n",
            "\n",
            "Topic 0 and 8 : 0\n",
            "Common words - set()\n",
            "\n",
            "\n",
            "Topic 0 and 9 : 0\n",
            "Common words - set()\n",
            "\n",
            "\n",
            "Topic 1 and 2 : 0\n",
            "Common words - set()\n",
            "\n",
            "\n",
            "Topic 1 and 3 : 1\n",
            "Common words - {'caviti'}\n",
            "\n",
            "\n",
            "Topic 1 and 4 : 0\n",
            "Common words - set()\n",
            "\n",
            "\n",
            "Topic 1 and 5 : 0\n",
            "Common words - set()\n",
            "\n",
            "\n",
            "Topic 1 and 6 : 0\n",
            "Common words - set()\n",
            "\n",
            "\n",
            "Topic 1 and 7 : 0\n",
            "Common words - set()\n",
            "\n",
            "\n",
            "Topic 1 and 8 : 0\n",
            "Common words - set()\n",
            "\n",
            "\n",
            "Topic 1 and 9 : 0\n",
            "Common words - set()\n",
            "\n",
            "\n",
            "Topic 2 and 3 : 0\n",
            "Common words - set()\n",
            "\n",
            "\n",
            "Topic 2 and 4 : 0\n",
            "Common words - set()\n",
            "\n",
            "\n",
            "Topic 2 and 5 : 0\n",
            "Common words - set()\n",
            "\n",
            "\n",
            "Topic 2 and 6 : 0\n",
            "Common words - set()\n",
            "\n",
            "\n",
            "Topic 2 and 7 : 0\n",
            "Common words - set()\n",
            "\n",
            "\n",
            "Topic 2 and 8 : 0\n",
            "Common words - set()\n",
            "\n",
            "\n",
            "Topic 2 and 9 : 0\n",
            "Common words - set()\n",
            "\n",
            "\n",
            "Topic 3 and 4 : 0\n",
            "Common words - set()\n",
            "\n",
            "\n",
            "Topic 3 and 5 : 0\n",
            "Common words - set()\n",
            "\n",
            "\n",
            "Topic 3 and 6 : 0\n",
            "Common words - set()\n",
            "\n",
            "\n",
            "Topic 3 and 7 : 0\n",
            "Common words - set()\n",
            "\n",
            "\n",
            "Topic 3 and 8 : 0\n",
            "Common words - set()\n",
            "\n",
            "\n",
            "Topic 3 and 9 : 0\n",
            "Common words - set()\n",
            "\n",
            "\n",
            "Topic 4 and 5 : 0\n",
            "Common words - set()\n",
            "\n",
            "\n",
            "Topic 4 and 6 : 0\n",
            "Common words - set()\n",
            "\n",
            "\n",
            "Topic 4 and 7 : 0\n",
            "Common words - set()\n",
            "\n",
            "\n",
            "Topic 4 and 8 : 0\n",
            "Common words - set()\n",
            "\n",
            "\n",
            "Topic 4 and 9 : 0\n",
            "Common words - set()\n",
            "\n",
            "\n",
            "Topic 5 and 6 : 0\n",
            "Common words - set()\n",
            "\n",
            "\n",
            "Topic 5 and 7 : 0\n",
            "Common words - set()\n",
            "\n",
            "\n",
            "Topic 5 and 8 : 0\n",
            "Common words - set()\n",
            "\n",
            "\n",
            "Topic 5 and 9 : 0\n",
            "Common words - set()\n",
            "\n",
            "\n",
            "Topic 6 and 7 : 0\n",
            "Common words - set()\n",
            "\n",
            "\n",
            "Topic 6 and 8 : 0\n",
            "Common words - set()\n",
            "\n",
            "\n",
            "Topic 6 and 9 : 0\n",
            "Common words - set()\n",
            "\n",
            "\n",
            "Topic 7 and 8 : 0\n",
            "Common words - set()\n",
            "\n",
            "\n",
            "Topic 7 and 9 : 0\n",
            "Common words - set()\n",
            "\n",
            "\n",
            "Topic 8 and 9 : 0\n",
            "Common words - set()\n",
            "\n",
            "\n"
          ]
        }
      ],
      "source": [
        "for combination in combinations(list(range(10)), 2):\n",
        "    common_words = set(topic_words(topic_dict[combination[0]])).intersection(set(topic_words(topic_dict[combination[1]])))\n",
        "    print(f\"Topic {combination[0]} and {combination[1]} : {len(common_words)}\", end = \"\\n\")\n",
        "    print(f\"Common words - {common_words}\", end = \"\\n\")\n",
        "    print(\"\\n\")"
      ]
    },
    {
      "cell_type": "code",
      "execution_count": 29,
      "metadata": {
        "colab": {
          "base_uri": "https://localhost:8080/"
        },
        "id": "WXIezk45pG47",
        "outputId": "2b52da34-075c-47b2-cf33-7cbd3a285dd0"
      },
      "outputs": [
        {
          "output_type": "stream",
          "name": "stdout",
          "text": [
            "\n",
            "Coherence Score:  0.6646907617821259\n"
          ]
        }
      ],
      "source": [
        "coherence_model_lda = CoherenceModel(model=lda_tfidf, texts=processed_docs, dictionary=dictionary, coherence='c_v')\n",
        "coherence_lda = coherence_model_lda.get_coherence()\n",
        "print('\\nCoherence Score: ', coherence_lda)"
      ]
    },
    {
      "cell_type": "markdown",
      "metadata": {
        "id": "4QZan-KkpHU3"
      },
      "source": [
        "***\n",
        "## **CONCLUSION: The topics have very little to none in common. We can conclude this because of the high coherence score and also because of the existence of very few common words b/w all pairs of topics.**\n",
        "***"
      ]
    }
  ],
  "metadata": {
    "colab": {
      "name": "J011_Topic Modelling_Assignment2.ipynb",
      "provenance": [],
      "collapsed_sections": []
    },
    "kernelspec": {
      "display_name": "Python 3",
      "language": "python",
      "name": "python3"
    },
    "language_info": {
      "codemirror_mode": {
        "name": "ipython",
        "version": 3
      },
      "file_extension": ".py",
      "mimetype": "text/x-python",
      "name": "python",
      "nbconvert_exporter": "python",
      "pygments_lexer": "ipython3",
      "version": "3.8.3"
    },
    "accelerator": "GPU"
  },
  "nbformat": 4,
  "nbformat_minor": 0
}